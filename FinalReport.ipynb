{
 "cells": [
  {
   "cell_type": "code",
   "execution_count": null,
   "id": "65f9982d-4f50-4615-8910-d5a36ea7da79",
   "metadata": {},
   "outputs": [],
   "source": [
    "#balancing (for sandra) \n",
    "library(themis)\n",
    "\n",
    "ups_recipe <- recipe(Class ~ ., data = rare_cancer) |>\n",
    "  step_upsample(Class, over_ratio = 1, skip = FALSE) |>\n",
    "  prep()\n",
    "\n",
    "ups_recipe"
   ]
  }
 ],
 "metadata": {
  "kernelspec": {
   "display_name": "R",
   "language": "R",
   "name": "ir"
  },
  "language_info": {
   "codemirror_mode": "r",
   "file_extension": ".r",
   "mimetype": "text/x-r-source",
   "name": "R",
   "pygments_lexer": "r",
   "version": "4.3.1"
  }
 },
 "nbformat": 4,
 "nbformat_minor": 5
}
