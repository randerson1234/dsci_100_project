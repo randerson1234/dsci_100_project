{
 "cells": [
  {
   "cell_type": "code",
   "execution_count": 1,
   "id": "65f9982d-4f50-4615-8910-d5a36ea7da79",
   "metadata": {
    "jupyter": {
     "source_hidden": true
    }
   },
   "outputs": [
    {
     "ename": "ERROR",
     "evalue": "Error in library(themis): there is no package called ‘themis’\n",
     "output_type": "error",
     "traceback": [
      "Error in library(themis): there is no package called ‘themis’\nTraceback:\n",
      "1. library(themis)"
     ]
    }
   ],
   "source": [
    "#balancing (for sandra) \n",
    "library(themis)\n",
    "\n",
    "ups_recipe <- recipe(Class ~ ., data = rare_cancer) |>\n",
    "  step_upsample(Class, over_ratio = 1, skip = FALSE) |>\n",
    "  prep()\n",
    "\n",
    "ups_recipe"
   ]
  },
  {
   "cell_type": "markdown",
   "id": "f4c3d133-0b74-46a0-87ae-fbd769ca6cdf",
   "metadata": {},
   "source": [
    "\"hello\""
   ]
  },
  {
   "cell_type": "code",
   "execution_count": null,
   "id": "60486379-4e24-4392-95bb-6783638792ac",
   "metadata": {},
   "outputs": [],
   "source": []
  }
 ],
 "metadata": {
  "kernelspec": {
   "display_name": "R",
   "language": "R",
   "name": "ir"
  },
  "language_info": {
   "codemirror_mode": "r",
   "file_extension": ".r",
   "mimetype": "text/x-r-source",
   "name": "R",
   "pygments_lexer": "r",
   "version": "4.3.1"
  }
 },
 "nbformat": 4,
 "nbformat_minor": 5
}
