{
 "cells": [
  {
   "cell_type": "markdown",
   "id": "97f7acb3",
   "metadata": {},
   "source": [
    "#  Exploring the relative significance of various factors in determining presence of Heart Disease\n",
    "\n",
    "## Introduction\n",
    "### Background Information\n",
    "High blood pressure, unhealthy cholesterol levels, and resting heart rate are some of the main predictors of heart disease (CDC). Blood pressure, when too high, can put stress on the arteries in addition to organs such as the heart and kidneys. Cholesterol is a fat-like substance that can build up on the walls of the arteries and reduce blood flow to the heart. These variables can be changed via medications or lifestyle changes and are therefore worth studying as predictors of heart disease.\n",
    "### Clearly state the question you will try to answer with your project\n",
    "Which of the well known predictors of heart disease have the greatest impact on presence? \n",
    "### Identify and describe the dataset that will be used to answer the question\n",
    "We will be using the Heart Disease Dataset which contains variables of sex, age, cholesterol, blood pressure, and smoking status.\n",
    "## Preliminary exploratory data analysis\n",
    "Demonstrate that the dataset can be read from the web into R \n",
    "Read from web!!!\n",
    "Clean and wrangle your data into a tidy format\n",
    "Remove all columns except cholesterol (chol), age, sex, blood pressure (trestbps), smoker (smoke), and diagnosis of heart disease (num). \n",
    "choose age in which to remove everything under.\n",
    "Change num into a factor if needed.\n",
    "### Using only training data, summarize the data in at least one table (this is exploratory data analysis). An example of a useful table could be one that reports the number of observations in each class, the means of the predictor variables you plan to use in your analysis and how many rows have missing data. \n",
    "Use above data ^, group by num, summarize mean smth\n",
    "### Using only training data, visualize the data with at least one plot relevant to the analysis you plan to do (this is exploratory data analysis). An example of a useful visualization could be one that compares the distributions of each of the predictor variables you plan to use in your analysis.\n",
    "Plot age vs heart disease, decide to cut off at some age.\n",
    "\n",
    "## Methods\n",
    "\n",
    "### Variables Used\n",
    "We will make the data set smaller and more manageable by using the cholesterol, resting heart rate, blood pressure, age, and sex variables. We will also keep the column that determines whether or not the patient received a diagnosis of heart disease in order to train and then test our model. \n",
    "### Data Analysis\n",
    "After cleaning the data and retaining columns for each of our variables, we will split the dataset by sex. We will perform a classification using each variable for one sex and compare the accuracies of each model for that sex. Each classification will start with a training dataset that will be used to create a recipe. We will perform 5-fold cross-validation on the training set in order to find the best k value. Then, we'll build a model using that k value and the training dataset. Finally, we'll use that model to pass the testing dataset through and evaluate its' accuracy. This process will be repeated for each variable for males and then each variable for females.\n",
    "### Data Visualization\n",
    "We will visualize results with bar plots that represent the accuracy of each variable, separated by sex. This will demonstrate which variables are best at predicting a diagnosis of heart disease and highlight any discrepancies between sexes. Additionally, we will have confusion matrixes for each variable. We will also have tibbles with each variables' accuracy for each sex. \n",
    "\n",
    "## Expected outcomes and significance\n",
    "\n",
    "### What do you expect to find? \n",
    "We expect to find that high cholesterol, high blood pressure, and increased resting heart rate are all positively correlated to a diagnosis of heart disease. We expect to find that cholesterol is the best predictor of heart disease and heart rate is the worst predictor in both sexes.\n",
    "### What impact could such findings have?\n",
    "Identifying the best predictor of heart disease also identifies the variable that is most important to change. So, if cholesterol is the best predictor, then one should focus on lowering their cholesterol before worrying about the other variables. \n",
    "### What future questions could this lead to?\n",
    "This could lead to questions about how our diet and lifestyles can be changed to reduce these levels. Additionally, we could wonder if more resources and energy should be targeted toward the identification and treatment of some variables over others. We also may wonder if there are additional variables that we didn't include in our tidied data that could have more of an impact over the variables that we chose to include. \n",
    "\n",
    " Which factors are most prominent in positive diagnoses"
   ]
  },
  {
   "cell_type": "code",
   "execution_count": 49,
   "id": "0c05608d",
   "metadata": {},
   "outputs": [
    {
     "name": "stderr",
     "output_type": "stream",
     "text": [
      "\u001b[1mRows: \u001b[22m\u001b[34m303\u001b[39m \u001b[1mColumns: \u001b[22m\u001b[34m14\u001b[39m\n",
      "\u001b[36m──\u001b[39m \u001b[1mColumn specification\u001b[22m \u001b[36m────────────────────────────────────────────────────────\u001b[39m\n",
      "\u001b[1mDelimiter:\u001b[22m \",\"\n",
      "\u001b[31mchr\u001b[39m  (2): ca, thal\n",
      "\u001b[32mdbl\u001b[39m (12): age, sex, cp, trestbps, chol, fbs, restecg, thalach, exang, oldpea...\n",
      "\n",
      "\u001b[36mℹ\u001b[39m Use `spec()` to retrieve the full column specification for this data.\n",
      "\u001b[36mℹ\u001b[39m Specify the column types or set `show_col_types = FALSE` to quiet this message.\n",
      "\u001b[1m\u001b[22m`summarise()` has grouped output by 'target'. You can override using the\n",
      "`.groups` argument.\n"
     ]
    },
    {
     "data": {
      "text/html": [
       "<table class=\"dataframe\">\n",
       "<caption>A grouped_df: 2 × 42</caption>\n",
       "<thead>\n",
       "\t<tr><th scope=col>target</th><th scope=col>29</th><th scope=col>34</th><th scope=col>35</th><th scope=col>37</th><th scope=col>38</th><th scope=col>39</th><th scope=col>40</th><th scope=col>41</th><th scope=col>42</th><th scope=col>⋯</th><th scope=col>65</th><th scope=col>66</th><th scope=col>67</th><th scope=col>68</th><th scope=col>69</th><th scope=col>70</th><th scope=col>71</th><th scope=col>74</th><th scope=col>76</th><th scope=col>77</th></tr>\n",
       "\t<tr><th scope=col>&lt;fct&gt;</th><th scope=col>&lt;dbl&gt;</th><th scope=col>&lt;dbl&gt;</th><th scope=col>&lt;dbl&gt;</th><th scope=col>&lt;dbl&gt;</th><th scope=col>&lt;dbl&gt;</th><th scope=col>&lt;dbl&gt;</th><th scope=col>&lt;dbl&gt;</th><th scope=col>&lt;dbl&gt;</th><th scope=col>&lt;dbl&gt;</th><th scope=col>⋯</th><th scope=col>&lt;dbl&gt;</th><th scope=col>&lt;dbl&gt;</th><th scope=col>&lt;dbl&gt;</th><th scope=col>&lt;dbl&gt;</th><th scope=col>&lt;dbl&gt;</th><th scope=col>&lt;dbl&gt;</th><th scope=col>&lt;dbl&gt;</th><th scope=col>&lt;dbl&gt;</th><th scope=col>&lt;dbl&gt;</th><th scope=col>&lt;dbl&gt;</th></tr>\n",
       "</thead>\n",
       "<tbody>\n",
       "\t<tr><td>0</td><td>204</td><td>196</td><td>187.5</td><td>232.5</td><td>175</td><td>246.6667</td><td>199</td><td>226.1111</td><td>237</td><td>⋯</td><td>305.75</td><td>258.5000</td><td>354.6667</td><td>244.0</td><td>236.5</td><td>245</td><td>238.6667</td><td>269</td><td>197</td><td> NA</td></tr>\n",
       "\t<tr><td>1</td><td> NA</td><td> NA</td><td>240.0</td><td>   NA</td><td>231</td><td>219.0000</td><td>195</td><td>172.0000</td><td>315</td><td>⋯</td><td>252.25</td><td>228.6667</td><td>252.8333</td><td>233.5</td><td>254.0</td><td>255</td><td>      NA</td><td> NA</td><td> NA</td><td>304</td></tr>\n",
       "</tbody>\n",
       "</table>\n"
      ],
      "text/latex": [
       "A grouped\\_df: 2 × 42\n",
       "\\begin{tabular}{lllllllllllllllllllll}\n",
       " target & 29 & 34 & 35 & 37 & 38 & 39 & 40 & 41 & 42 & ⋯ & 65 & 66 & 67 & 68 & 69 & 70 & 71 & 74 & 76 & 77\\\\\n",
       " <fct> & <dbl> & <dbl> & <dbl> & <dbl> & <dbl> & <dbl> & <dbl> & <dbl> & <dbl> & ⋯ & <dbl> & <dbl> & <dbl> & <dbl> & <dbl> & <dbl> & <dbl> & <dbl> & <dbl> & <dbl>\\\\\n",
       "\\hline\n",
       "\t 0 & 204 & 196 & 187.5 & 232.5 & 175 & 246.6667 & 199 & 226.1111 & 237 & ⋯ & 305.75 & 258.5000 & 354.6667 & 244.0 & 236.5 & 245 & 238.6667 & 269 & 197 &  NA\\\\\n",
       "\t 1 &  NA &  NA & 240.0 &    NA & 231 & 219.0000 & 195 & 172.0000 & 315 & ⋯ & 252.25 & 228.6667 & 252.8333 & 233.5 & 254.0 & 255 &       NA &  NA &  NA & 304\\\\\n",
       "\\end{tabular}\n"
      ],
      "text/markdown": [
       "\n",
       "A grouped_df: 2 × 42\n",
       "\n",
       "| target &lt;fct&gt; | 29 &lt;dbl&gt; | 34 &lt;dbl&gt; | 35 &lt;dbl&gt; | 37 &lt;dbl&gt; | 38 &lt;dbl&gt; | 39 &lt;dbl&gt; | 40 &lt;dbl&gt; | 41 &lt;dbl&gt; | 42 &lt;dbl&gt; | ⋯ ⋯ | 65 &lt;dbl&gt; | 66 &lt;dbl&gt; | 67 &lt;dbl&gt; | 68 &lt;dbl&gt; | 69 &lt;dbl&gt; | 70 &lt;dbl&gt; | 71 &lt;dbl&gt; | 74 &lt;dbl&gt; | 76 &lt;dbl&gt; | 77 &lt;dbl&gt; |\n",
       "|---|---|---|---|---|---|---|---|---|---|---|---|---|---|---|---|---|---|---|---|---|\n",
       "| 0 | 204 | 196 | 187.5 | 232.5 | 175 | 246.6667 | 199 | 226.1111 | 237 | ⋯ | 305.75 | 258.5000 | 354.6667 | 244.0 | 236.5 | 245 | 238.6667 | 269 | 197 |  NA |\n",
       "| 1 |  NA |  NA | 240.0 |    NA | 231 | 219.0000 | 195 | 172.0000 | 315 | ⋯ | 252.25 | 228.6667 | 252.8333 | 233.5 | 254.0 | 255 |       NA |  NA |  NA | 304 |\n",
       "\n"
      ],
      "text/plain": [
       "  target 29  34  35    37    38  39       40  41       42  ⋯ 65     66      \n",
       "1 0      204 196 187.5 232.5 175 246.6667 199 226.1111 237 ⋯ 305.75 258.5000\n",
       "2 1       NA  NA 240.0    NA 231 219.0000 195 172.0000 315 ⋯ 252.25 228.6667\n",
       "  67       68    69    70  71       74  76  77 \n",
       "1 354.6667 244.0 236.5 245 238.6667 269 197  NA\n",
       "2 252.8333 233.5 254.0 255       NA  NA  NA 304"
      ]
     },
     "metadata": {},
     "output_type": "display_data"
    }
   ],
   "source": [
    "library(tidyverse)\n",
    "library(tidymodels)\n",
    "library(dplyr)\n",
    "# Load in libaries\n",
    "\n",
    "#Set URL of dataset\n",
    "url <- \"https://archive.ics.uci.edu/ml/machine-learning-databases/heart-disease/processed.cleveland.data\"\n",
    "\n",
    "#Set file path of dataset\n",
    "file_path <- \"processed.cleveland.data\"\n",
    "\n",
    "#Get character vector of Column Names of Dataset\n",
    "column_names <- c(\"age\", \"sex\", \"cp\", \"trestbps\", \"chol\", \"fbs\", \"restecg\", \n",
    "                  \"thalach\", \"exang\", \"oldpeak\", \"slope\", \"ca\", \"thal\", \"target\")\n",
    "\n",
    "#Download dataset into R\n",
    "download.file(url, destfile = file_path, method = \"auto\")\n",
    "\n",
    "#Read dataset into heart_csv\n",
    "heart_csv <- read_delim(\"processed.cleveland.data\", delim = \",\", col_names = column_names)\n",
    "\n",
    "#Clean dataset\n",
    "heart_data <- heart_csv |>\n",
    "    select(age, sex, chol, trestbps, target) |>\n",
    "    mutate(target = as_factor(ifelse(target > 0, 1, 0))) |>\n",
    "    mutate(age = as_factor(age))\n",
    "\n",
    "#Create training and testing split for dataset\n",
    "heart_split <- initial_split(heart_data, prop = 0.75, strata = target)\n",
    "heart_train <- training(heart_split)\n",
    "heart_test <- testing(heart_split)\n",
    "\n",
    "#Create summary dataset \n",
    "summary_heart <- heart_data |>\n",
    "    group_by(target, age) |>\n",
    "    summarize(mean = mean(chol, na.rm = TRUE)) |>\n",
    "    pivot_wider(names_from = age, values_from = mean)\n",
    "    \n",
    "summary_heart\n",
    "\n",
    "#Create age v.s. cp plot to demonstrate which ages we will focus on\n",
    "\n"
   ]
  },
  {
   "cell_type": "code",
   "execution_count": null,
   "id": "146806db",
   "metadata": {},
   "outputs": [],
   "source": []
  }
 ],
 "metadata": {
  "kernelspec": {
   "display_name": "R",
   "language": "R",
   "name": "ir"
  },
  "language_info": {
   "codemirror_mode": "r",
   "file_extension": ".r",
   "mimetype": "text/x-r-source",
   "name": "R",
   "pygments_lexer": "r",
   "version": "4.3.1"
  }
 },
 "nbformat": 4,
 "nbformat_minor": 5
}
