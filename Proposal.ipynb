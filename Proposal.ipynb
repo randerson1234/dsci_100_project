{
 "cells": [
  {
   "cell_type": "markdown",
   "id": "97f7acb3",
   "metadata": {},
   "source": [
    "#  Exploring the relative significance of various factors in determining presence of Heart Disease\n",
    "\n",
    "## Introduction\n",
    "\n",
    "High blood pressure, unhealthy cholesterol levels, and resting heart rate are some of the main predictors of heart disease (CDC). Blood pressure, when too high, can put stress on the arteries in addition to organs such as the heart and kidneys. Cholesterol is a fat-like substance that can build up on the walls of the arteries and reduce blood flow to the heart. These variables can be changed via medications or lifestyle changes and are therefore worth studying as predictors of heart disease.\n",
    "\n",
    "We will be trying to find which of the well known predictors of heart disease have the greatest impact on presence. To do this we are using the Heart Disease Dataset which contains variables of sex, age, cholesterol, blood pressure, and smoking status.\n"
   ]
  },
  {
   "cell_type": "markdown",
   "id": "c28592f5-c40a-4f4f-894e-b77d81a68292",
   "metadata": {},
   "source": [
    "## Preliminary Exploratory Data Analysis\n",
    "\n",
    "We begin by reading our data in from the web. Then clean and wrangle it so that it is clear, and easy to manipulate."
   ]
  },
  {
   "cell_type": "code",
   "execution_count": 59,
   "id": "0c05608d",
   "metadata": {
    "scrolled": true
   },
   "outputs": [
    {
     "name": "stderr",
     "output_type": "stream",
     "text": [
      "\u001b[1mRows: \u001b[22m\u001b[34m303\u001b[39m \u001b[1mColumns: \u001b[22m\u001b[34m14\u001b[39m\n",
      "\u001b[36m──\u001b[39m \u001b[1mColumn specification\u001b[22m \u001b[36m────────────────────────────────────────────────────────\u001b[39m\n",
      "\u001b[1mDelimiter:\u001b[22m \",\"\n",
      "\u001b[31mchr\u001b[39m  (2): ca, thal\n",
      "\u001b[32mdbl\u001b[39m (12): age, sex, cp, trestbps, chol, fbs, restecg, thalach, exang, oldpea...\n",
      "\n",
      "\u001b[36mℹ\u001b[39m Use `spec()` to retrieve the full column specification for this data.\n",
      "\u001b[36mℹ\u001b[39m Specify the column types or set `show_col_types = FALSE` to quiet this message.\n"
     ]
    }
   ],
   "source": [
    "library(tidyverse)\n",
    "library(tidymodels)\n",
    "library(dplyr)\n",
    "# Load in libaries\n",
    "\n",
    "#Set URL of dataset\n",
    "url <- \"https://archive.ics.uci.edu/ml/machine-learning-databases/heart-disease/processed.cleveland.data\"\n",
    "\n",
    "#Set file path of dataset\n",
    "file_path <- \"processed.cleveland.data\"\n",
    "\n",
    "#Get character vector of Column Names of Dataset\n",
    "column_names <- c(\"age\", \"sex\", \"cp\", \"trestbps\", \"chol\", \"fbs\", \"restecg\", \n",
    "                  \"thalach\", \"exang\", \"oldpeak\", \"slope\", \"ca\", \"thal\", \"target\")\n",
    "\n",
    "#Download dataset into R\n",
    "download.file(url, destfile = file_path, method = \"auto\")\n",
    "\n",
    "#Read dataset into heart_csv\n",
    "heart_csv <- read_delim(\"processed.cleveland.data\", delim = \",\", col_names = column_names)\n",
    "\n",
    "#Clean dataset\n",
    "heart_data <- heart_csv |>\n",
    "    select(age, sex, chol, trestbps, target) |>\n",
    "    mutate(target = as_factor(ifelse(target > 0, 1, 0))) |>\n",
    "    mutate(age = as_factor(age))\n",
    "\n",
    "\n"
   ]
  },
  {
   "cell_type": "markdown",
   "id": "2b7d061e-b933-4248-a788-d8cb9230cfad",
   "metadata": {},
   "source": [
    "## Training and Testing "
   ]
  },
  {
   "cell_type": "code",
   "execution_count": 60,
   "id": "b446c9ac-6d5d-4145-88f7-95f4c1d798c8",
   "metadata": {},
   "outputs": [],
   "source": [
    "#Create training and testing split for dataset\n",
    "heart_split <- initial_split(heart_data, prop = 0.75, strata = target)\n",
    "heart_train <- training(heart_split)\n",
    "heart_test <- testing(heart_split)"
   ]
  },
  {
   "cell_type": "markdown",
   "id": "6b668568-a199-46d6-a4fa-10b31cfe52da",
   "metadata": {},
   "source": [
    "## Summary \n",
    "To start, we summarized the mean cholesteral and resting blood pressure (on admission to the hospital). This was also sorted into whether the patient had a any prescence of heart disease, or not."
   ]
  },
  {
   "cell_type": "code",
   "execution_count": 61,
   "id": "c2181c3b-8785-4b0b-a73e-aeb9322dacf7",
   "metadata": {},
   "outputs": [
    {
     "data": {
      "text/html": [
       "<table class=\"dataframe\">\n",
       "<caption>A tibble: 2 × 3</caption>\n",
       "<thead>\n",
       "\t<tr><th scope=col>target</th><th scope=col>mean_chol</th><th scope=col>mean_trestbps</th></tr>\n",
       "\t<tr><th scope=col>&lt;fct&gt;</th><th scope=col>&lt;dbl&gt;</th><th scope=col>&lt;dbl&gt;</th></tr>\n",
       "</thead>\n",
       "<tbody>\n",
       "\t<tr><td>0</td><td>244.8049</td><td>129.6098</td></tr>\n",
       "\t<tr><td>1</td><td>254.3558</td><td>134.6827</td></tr>\n",
       "</tbody>\n",
       "</table>\n"
      ],
      "text/latex": [
       "A tibble: 2 × 3\n",
       "\\begin{tabular}{lll}\n",
       " target & mean\\_chol & mean\\_trestbps\\\\\n",
       " <fct> & <dbl> & <dbl>\\\\\n",
       "\\hline\n",
       "\t 0 & 244.8049 & 129.6098\\\\\n",
       "\t 1 & 254.3558 & 134.6827\\\\\n",
       "\\end{tabular}\n"
      ],
      "text/markdown": [
       "\n",
       "A tibble: 2 × 3\n",
       "\n",
       "| target &lt;fct&gt; | mean_chol &lt;dbl&gt; | mean_trestbps &lt;dbl&gt; |\n",
       "|---|---|---|\n",
       "| 0 | 244.8049 | 129.6098 |\n",
       "| 1 | 254.3558 | 134.6827 |\n",
       "\n"
      ],
      "text/plain": [
       "  target mean_chol mean_trestbps\n",
       "1 0      244.8049  129.6098     \n",
       "2 1      254.3558  134.6827     "
      ]
     },
     "metadata": {},
     "output_type": "display_data"
    }
   ],
   "source": [
    "\n",
    "#Create summary dataset \n",
    "summary_heart <- heart_train |>\n",
    "    group_by(target) |>\n",
    "    summarize(mean_chol = mean(chol, na.rm = TRUE), mean_trestbps = mean(trestbps, na.rm = TRUE))\n",
    "    \n",
    "summary_heart"
   ]
  },
  {
   "cell_type": "markdown",
   "id": "9af302a7-c527-466e-8738-4121959185cd",
   "metadata": {},
   "source": [
    "### Using only training data, visualize the data with at least one plot relevant to the analysis you plan to do (this is exploratory data analysis). An example of a useful visualization could be one that compares the distributions of each of the predictor variables you plan to use in your analysis.\n",
    "Plot age vs heart disease, decide to cut off at some age.\n",
    "\n"
   ]
  },
  {
   "cell_type": "code",
   "execution_count": 62,
   "id": "63332b74-fd03-4a5f-ba6c-21e940d14c4a",
   "metadata": {},
   "outputs": [],
   "source": [
    "#Create age v.s. cp plot to demonstrate which ages we will focus on"
   ]
  },
  {
   "cell_type": "markdown",
   "id": "1bbbab6b-f97b-4e76-b1eb-0942126eb9ac",
   "metadata": {},
   "source": [
    "## Methods\n",
    "\n",
    "### Variables Used\n",
    "We will make the data set smaller and more manageable by using the cholesterol, resting heart rate, blood pressure, age, and sex variables. We will also keep the column that determines whether or not the patient received a diagnosis of heart disease in order to train and then test our model. \n",
    "### Data Analysis\n",
    "After cleaning the data and retaining columns for each of our variables, we will split the dataset by sex. We will perform a classification using each variable for one sex and compare the accuracies of each model for that sex. Each classification will start with a training dataset that will be used to create a recipe. We will perform 5-fold cross-validation on the training set in order to find the best k value. Then, we'll build a model using that k value and the training dataset. Finally, we'll use that model to pass the testing dataset through and evaluate its' accuracy. This process will be repeated for each variable for males and then each variable for females.\n",
    "### Data Visualization\n",
    "We will visualize results with bar plots that represent the accuracy of each variable, separated by sex. This will demonstrate which variables are best at predicting a diagnosis of heart disease and highlight any discrepancies between sexes. Additionally, we will have confusion matrixes for each variable. We will also have tibbles with each variables' accuracy for each sex. \n",
    "\n"
   ]
  },
  {
   "cell_type": "markdown",
   "id": "eaaba385-5f13-4c29-9061-328891def604",
   "metadata": {},
   "source": [
    "## Expected outcomes and significance\n",
    "\n",
    "### What do you expect to find? \n",
    "We expect to find that high cholesterol, high blood pressure, and increased resting heart rate are all positively correlated to a diagnosis of heart disease. We expect to find that cholesterol is the best predictor of heart disease and heart rate is the worst predictor in both sexes.\n",
    "### What impact could such findings have?\n",
    "Identifying the best predictor of heart disease also identifies the variable that is most important to change. So, if cholesterol is the best predictor, then one should focus on lowering their cholesterol before worrying about the other variables. \n",
    "### What future questions could this lead to?\n",
    "This could lead to questions about how our diet and lifestyles can be changed to reduce these levels. Additionally, we could wonder if more resources and energy should be targeted toward the identification and treatment of some variables over others. We also may wonder if there are additional variables that we didn't include in our tidied data that could have more of an impact over the variables that we chose to include. \n",
    "\n",
    " Which factors are most prominent in positive diagnoses"
   ]
  },
  {
   "cell_type": "code",
   "execution_count": null,
   "id": "beca68c2-d86e-423f-a013-1e6e3d2692ed",
   "metadata": {},
   "outputs": [],
   "source": []
  }
 ],
 "metadata": {
  "kernelspec": {
   "display_name": "R",
   "language": "R",
   "name": "ir"
  },
  "language_info": {
   "codemirror_mode": "r",
   "file_extension": ".r",
   "mimetype": "text/x-r-source",
   "name": "R",
   "pygments_lexer": "r",
   "version": "4.3.1"
  }
 },
 "nbformat": 4,
 "nbformat_minor": 5
}
